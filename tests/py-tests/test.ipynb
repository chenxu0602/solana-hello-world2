{
 "cells": [
  {
   "cell_type": "code",
   "execution_count": 37,
   "id": "2c2a9ae1",
   "metadata": {},
   "outputs": [],
   "source": [
    "from solana.rpc.api import Client\n",
    "from solders.keypair import Keypair\n",
    "from solders.pubkey import Pubkey\n",
    "from solders.instruction import Instruction, AccountMeta\n",
    "from solders.transaction import Transaction, VersionedTransaction\n",
    "from solders.system_program import ID as SYSTEM_PROGRAM_ID\n",
    "from solders.message import Message, MessageV0\n",
    "import base64\n",
    "import hashlib\n",
    "import time, json\n",
    "from pathlib import Path\n",
    "import struct"
   ]
  },
  {
   "cell_type": "code",
   "execution_count": 38,
   "id": "e8432df7",
   "metadata": {},
   "outputs": [],
   "source": [
    "# === Setup ===\n",
    "# client = Client(\"https://solana-devnet.g.alchemy.com/v2/yFvVrsfjsZPRaU9X2Du0T\")\n",
    "client = Client(\"https://api.devnet.solana.com\")\n",
    "program_id = Pubkey.from_string(\"DrhtoDhPFqsZZFGdyFQxoSYmiAYx8hWxM8DMXvM3R278\")\n",
    "\n",
    "keypair_path = Path(\"/Users/chenxu/.config/solana/id.json\")\n",
    "\n",
    "with open(keypair_path, 'r') as f:\n",
    "    secret_key_json = json.load(f)\n",
    "\n",
    "secret_key_bytes = bytes(secret_key_json)\n",
    "payer = Keypair.from_bytes(secret_key_bytes)"
   ]
  },
  {
   "cell_type": "code",
   "execution_count": 33,
   "id": "d0b3cd8f",
   "metadata": {},
   "outputs": [],
   "source": [
    "seed = b'message'\n",
    "message_pda, _ = Pubkey.find_program_address([seed], program_id)"
   ]
  },
  {
   "cell_type": "code",
   "execution_count": 34,
   "id": "128515cb",
   "metadata": {},
   "outputs": [],
   "source": [
    "content = 'Hello from Python!'\n",
    "\n",
    "discriminator = hashlib.sha256(b'global:create_message').digest()[:8]\n",
    "content_byptes = content.encode('utf-8')\n",
    "encoded_data = discriminator + struct.pack('<I', len(content_byptes)) + content_byptes"
   ]
  },
  {
   "cell_type": "code",
   "execution_count": 35,
   "id": "60fc056b",
   "metadata": {},
   "outputs": [],
   "source": [
    "# === Build Instruction ===\n",
    "message_account = Keypair()\n",
    "\n",
    "ix = Instruction(\n",
    "    program_id=program_id,\n",
    "    data=encoded_data,\n",
    "    accounts=[\n",
    "        AccountMeta(pubkey=message_account.pubkey(), is_signer=True, is_writable=True),\n",
    "        AccountMeta(pubkey=payer.pubkey(), is_signer=True, is_writable=True),\n",
    "        AccountMeta(pubkey=SYSTEM_PROGRAM_ID, is_signer=False, is_writable=False),\n",
    "    ]\n",
    ")"
   ]
  },
  {
   "cell_type": "code",
   "execution_count": 36,
   "id": "49533adb",
   "metadata": {},
   "outputs": [
    {
     "name": "stdout",
     "output_type": "stream",
     "text": [
      "Transaction signature: 5Rb3PK3zUNUEUxkw4ArsWvFbNvY7gYbKRuF14oT1k1CAev5ri9wF6vLwjmPZnCBX9dnh4j6vhviE5EMwTuZkXbyn\n"
     ]
    }
   ],
   "source": [
    "# === Send Transaction ===\n",
    "latest_blockhash = client.get_latest_blockhash().value.blockhash\n",
    "\n",
    "msg = MessageV0.try_compile(\n",
    "    payer=payer.pubkey(),\n",
    "    instructions=[ix],\n",
    "    address_lookup_table_accounts=[],\n",
    "    recent_blockhash=latest_blockhash,\n",
    ")\n",
    "\n",
    "tx = VersionedTransaction(msg, [payer, message_account])\n",
    "\n",
    "# msg = Message.new_with_blockhash([ix], payer.pubkey(), latest_blockhash)\n",
    "# tx = Transaction([payer], msg, latest_blockhash)\n",
    "\n",
    "resp = client.send_transaction(tx)\n",
    "print(f'Transaction signature: {resp.value}')"
   ]
  },
  {
   "cell_type": "code",
   "execution_count": 23,
   "id": "7bcbfac1",
   "metadata": {},
   "outputs": [],
   "source": [
    "from solana.rpc.api import Client\n",
    "import base64, struct\n",
    "from solders.pubkey import Pubkey\n",
    "\n",
    "client = Client(\"https://api.devnet.solana.com\")\n",
    "\n",
    "message_account_pubkey = message_account.pubkey()\n",
    "\n",
    "# Fetch raw account data\n",
    "account_info = client.get_account_info(message_account_pubkey)\n",
    "data: bytes = account_info.value.data"
   ]
  },
  {
   "cell_type": "code",
   "execution_count": 24,
   "id": "7fed2ab1",
   "metadata": {},
   "outputs": [
    {
     "name": "stdout",
     "output_type": "stream",
     "text": [
      "📦 Decoded Message Account:\n",
      "Author: BMjzDvXwkqXabSVphEpmcQmeBMCVQNCpuLKpBicE9Ls7\n",
      "Timestamp: 1749920067\n",
      "Content: Hello from Python!\n"
     ]
    }
   ],
   "source": [
    "author = Pubkey.from_bytes(data[8:40])\n",
    "timestamp = struct.unpack('<q', data[40:48])[0]\n",
    "content_len = struct.unpack('<I', data[48:52])[0]\n",
    "content = data[52:52 + content_len].decode('utf-8')\n",
    "\n",
    "print(\"📦 Decoded Message Account:\")\n",
    "print(\"Author:\", str(author))\n",
    "print(\"Timestamp:\", timestamp)\n",
    "print(\"Content:\", content)"
   ]
  },
  {
   "cell_type": "code",
   "execution_count": 27,
   "id": "2faeb0b9",
   "metadata": {},
   "outputs": [],
   "source": [
    "import hashlib\n",
    "import struct\n",
    "from solders.instruction import Instruction, AccountMeta\n",
    "\n",
    "# Define new content\n",
    "new_content = \"Updated from Python!\"\n",
    "\n",
    "# Anchor discriminator for update_message\n",
    "discriminator = hashlib.sha256(b\"global:update_message\").digest()[:8]\n",
    "\n",
    "# Encode as Anchor-style: discriminator + <u32 length> + UTF-8 bytes\n",
    "new_content_bytes = new_content.encode(\"utf-8\")\n",
    "encoded_data = discriminator + struct.pack(\"<I\", len(new_content_bytes)) + new_content_bytes\n",
    "\n",
    "# Reuse message_account from previous test\n",
    "ix = Instruction(\n",
    "    program_id=program_id,\n",
    "    data=encoded_data,\n",
    "    accounts=[\n",
    "        AccountMeta(pubkey=message_account.pubkey(), is_signer=False, is_writable=True),\n",
    "        AccountMeta(pubkey=payer.pubkey(), is_signer=True, is_writable=True),\n",
    "        AccountMeta(pubkey=SYSTEM_PROGRAM_ID, is_signer=False, is_writable=False),\n",
    "    ]\n",
    ")\n"
   ]
  },
  {
   "cell_type": "code",
   "execution_count": null,
   "id": "6fd7b58f",
   "metadata": {},
   "outputs": [
    {
     "name": "stdout",
     "output_type": "stream",
     "text": [
      "✅ update_message tx: 5Wb1ka3uRMYj5t99YN13URaooaHqd7C9PQVHGV5ionDG3LsFfV6ifj32S9JFw1mq8ZeBrK4fVN2FpZgtDtXuVbAL\n"
     ]
    }
   ],
   "source": [
    "from solders.transaction import VersionedTransaction\n",
    "from solders.message import MessageV0\n",
    "\n",
    "latest_blockhash = client.get_latest_blockhash().value.blockhash\n",
    "\n",
    "msg = MessageV0.try_compile(\n",
    "    payer=payer.pubkey(),\n",
    "    instructions=[ix],\n",
    "    address_lookup_table_accounts=[],\n",
    "    recent_blockhash=latest_blockhash,\n",
    ")\n",
    "\n",
    "tx = VersionedTransaction(msg, [payer])\n",
    "\n",
    "resp = client.send_transaction(tx)\n",
    "print(f\"✅ update_message tx: {resp.value}\")\n"
   ]
  },
  {
   "cell_type": "code",
   "execution_count": null,
   "id": "910b9b78",
   "metadata": {},
   "outputs": [
    {
     "name": "stdout",
     "output_type": "stream",
     "text": [
      "📦 Decoded Updated Message:\n",
      "Author: BMjzDvXwkqXabSVphEpmcQmeBMCVQNCpuLKpBicE9Ls7\n",
      "Timestamp: 1749921002\n",
      "Content: Updated from Python!\n"
     ]
    }
   ],
   "source": [
    "account_info = client.get_account_info(message_account.pubkey())\n",
    "data: bytes = account_info.value.data\n",
    "\n",
    "author = Pubkey.from_bytes(data[8:40])\n",
    "timestamp = struct.unpack(\"<q\", data[40:48])[0]\n",
    "content_len = struct.unpack(\"<I\", data[48:52])[0]\n",
    "content = data[52:52 + content_len].decode(\"utf-8\")\n",
    "\n",
    "print(\"📦 Decoded Updated Message:\")\n",
    "print(\"Author:\", str(author))\n",
    "print(\"Timestamp:\", timestamp)\n",
    "print(\"Content:\", content)\n"
   ]
  },
  {
   "cell_type": "code",
   "execution_count": 30,
   "id": "f948c06b",
   "metadata": {},
   "outputs": [],
   "source": [
    "assert content == new_content, \"update_message failed!\"\n"
   ]
  }
 ],
 "metadata": {
  "kernelspec": {
   "display_name": ".venv",
   "language": "python",
   "name": "python3"
  },
  "language_info": {
   "codemirror_mode": {
    "name": "ipython",
    "version": 3
   },
   "file_extension": ".py",
   "mimetype": "text/x-python",
   "name": "python",
   "nbconvert_exporter": "python",
   "pygments_lexer": "ipython3",
   "version": "3.13.0"
  }
 },
 "nbformat": 4,
 "nbformat_minor": 5
}
